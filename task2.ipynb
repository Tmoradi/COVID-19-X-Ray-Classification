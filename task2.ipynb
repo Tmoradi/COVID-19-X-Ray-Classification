{
 "cells": [
  {
   "cell_type": "markdown",
   "metadata": {
    "nbpresent": {
     "id": "1d234e3f-af8b-4757-83f3-241b04b7a511"
    }
   },
   "source": [
    "# Class Challenge: Image Classification of COVID-19 X-rays\n",
    "# Task 2 [Total points: 30]"
   ]
  },
  {
   "cell_type": "markdown",
   "metadata": {
    "nbpresent": {
     "id": "b07b9992-b592-4871-9f9a-3b0ae5fa8b5f"
    }
   },
   "source": [
    "## Setup\n",
    "\n",
    "* This assignment involves the following packages: 'matplotlib', 'numpy', and 'sklearn'. \n",
    "\n",
    "* If you are using conda, use the following commands to install the above packages:<br>\n",
    "```shell\n",
    "conda install matplotlib\n",
    "conda install numpy\n",
    "conda install -c anaconda scikit-learn\n",
    "```\n",
    "\n",
    "* If you are using pip, use use the following commands to install the above packages: <br> \n",
    "```shell\n",
    "pip install matplotlib\n",
    "pip install numpy\n",
    "pip install sklearn\n",
    "```"
   ]
  },
  {
   "cell_type": "markdown",
   "metadata": {
    "nbpresent": {
     "id": "5516f610-f00c-43c3-bf19-4cf7ab9c089f"
    }
   },
   "source": [
    "## Data\n",
    "\n",
    "Please download the data using the following link: [COVID-19](https://drive.google.com/file/d/1Y88tgqpQ1Pjko_7rntcPowOJs_QNOrJ-/view). \n",
    "\n",
    "* After downloading 'Covid_Data_GradientCrescent.zip', unzip the file and you should see the following data structure:\n",
    "\n",
    "\n",
    "|--all<br>\n",
    "|--------train<br>\n",
    "|--------test<br>\n",
    "|--two<br>\n",
    "|--------train<br>\n",
    "|--------test<br>\n",
    "\n",
    "\n",
    "* Put the 'all' folder, the 'two' folder and this python notebook in the **same directory** so that the following code can correctly locate the data.  \n",
    "\n"
   ]
  },
  {
   "cell_type": "markdown",
   "metadata": {
    "nbpresent": {
     "id": "66140980-2aa4-457f-b1df-74c10c234cc2"
    }
   },
   "source": [
    "## [20 points] Multi-class Classification"
   ]
  },
  {
   "cell_type": "code",
   "execution_count": 1,
   "metadata": {
    "nbpresent": {
     "id": "5e05f980-3d14-4367-b3d1-664249145b13"
    },
    "scrolled": true
   },
   "outputs": [
    {
     "data": {
      "text/plain": [
       "'2.1.0'"
      ]
     },
     "execution_count": 1,
     "metadata": {},
     "output_type": "execute_result"
    }
   ],
   "source": [
    "import os\n",
    "\n",
    "import tensorflow as tf\n",
    "from tensorflow.keras.layers import Flatten, Dense , Dropout , GlobalAveragePooling2D\n",
    "from tensorflow.keras.models import Sequential,Model\n",
    "from tensorflow.keras.optimizers import Adam\n",
    "from tensorflow.keras.models import Model\n",
    "import numpy as np\n",
    "import matplotlib.pyplot as plt\n",
    "from tensorflow.keras.preprocessing.image import ImageDataGenerator\n",
    "\n",
    "os.environ['OMP_NUM_THREADS'] = '-1'\n",
    "os.environ['CUDA_VISIBLE_DEVICES'] = '-1'\n",
    "tf.__version__"
   ]
  },
  {
   "cell_type": "markdown",
   "metadata": {
    "nbpresent": {
     "id": "66140980-2aa4-457f-b1df-74c10c234cc2"
    }
   },
   "source": [
    "#### Load Image Data"
   ]
  },
  {
   "cell_type": "code",
   "execution_count": 2,
   "metadata": {
    "nbpresent": {
     "id": "58317664-8da3-4283-b3e5-35721687e7ab"
    }
   },
   "outputs": [],
   "source": [
    "DATA_LIST = os.listdir('C:/Users/Tiam/Desktop/Class Challenge/Covid_Data_GradientCrescent')\n",
    "DATASET_PATH  = 'C:/Users/Tiam/Desktop//Class Challenge/Covid_Data_GradientCrescent/all/train'\n",
    "TEST_DIR =  'C:/Users/Tiam/Desktop/Class Challenge/Covid_Data_GradientCrescent/all/test'\n",
    "IMAGE_SIZE    = (224, 224)\n",
    "NUM_CLASSES   = len(DATA_LIST)\n",
    "BATCH_SIZE    = 10  # try reducing batch size or freeze more layers if your GPU runs out of memory\n",
    "NUM_EPOCHS    = 75\n",
    "LEARNING_RATE = 0.0001 # start off with high rate first 0.001 and experiment with reducing it gradually "
   ]
  },
  {
   "cell_type": "markdown",
   "metadata": {
    "nbpresent": {
     "id": "66140980-2aa4-457f-b1df-74c10c234cc2"
    }
   },
   "source": [
    "#### Generate Training and Validation Batches"
   ]
  },
  {
   "cell_type": "code",
   "execution_count": 3,
   "metadata": {
    "nbpresent": {
     "id": "71760e29-2b08-4259-93f1-ebe68cd74a6d"
    }
   },
   "outputs": [
    {
     "name": "stderr",
     "output_type": "stream",
     "text": [
      "C:\\Users\\Tiam\\Anaconda3\\lib\\site-packages\\keras_preprocessing\\image\\image_data_generator.py:341: UserWarning: This ImageDataGenerator specifies `zca_whitening` which overrides setting of`featurewise_std_normalization`.\n",
      "  warnings.warn('This ImageDataGenerator specifies '\n"
     ]
    },
    {
     "name": "stdout",
     "output_type": "stream",
     "text": [
      "Found 216 images belonging to 4 classes.\n",
      "Found 54 images belonging to 4 classes.\n"
     ]
    }
   ],
   "source": [
    "train_datagen = ImageDataGenerator(rescale=1./255,rotation_range=50,featurewise_center = True,\n",
    "                                   featurewise_std_normalization = True,width_shift_range=0.2,\n",
    "                                   height_shift_range=0.2,shear_range=0.25,zoom_range=0.1,\n",
    "                                   zca_whitening = True,channel_shift_range = 20,\n",
    "                                   horizontal_flip = True,vertical_flip = True,\n",
    "                                   validation_split = 0.2,fill_mode='constant')\n",
    "\n",
    "\n",
    "train_batches = train_datagen.flow_from_directory(DATASET_PATH,target_size=IMAGE_SIZE,\n",
    "                                                  shuffle=True,batch_size=BATCH_SIZE,\n",
    "                                                  subset = \"training\",seed=42,\n",
    "                                                  class_mode=\"categorical\")\n",
    "\n",
    "valid_batches = train_datagen.flow_from_directory(DATASET_PATH,target_size=IMAGE_SIZE,\n",
    "                                                  shuffle=True,batch_size=BATCH_SIZE,\n",
    "                                                  subset = \"validation\",\n",
    "                                                  seed=42,class_mode=\"categorical\")"
   ]
  },
  {
   "cell_type": "markdown",
   "metadata": {
    "nbpresent": {
     "id": "66140980-2aa4-457f-b1df-74c10c234cc2"
    }
   },
   "source": [
    "#### [10 points] Build Model\n",
    "Hint: Starting from a pre-trained model typically helps performance on a new task, e.g. starting with weights obtained by training on ImageNet. "
   ]
  },
  {
   "cell_type": "code",
   "execution_count": 4,
   "metadata": {
    "nbpresent": {
     "id": "5c52eeb2-1092-4d45-9e16-02219c82cb5e"
    }
   },
   "outputs": [
    {
     "name": "stdout",
     "output_type": "stream",
     "text": [
      "Model: \"sequential\"\n",
      "_________________________________________________________________\n",
      "Layer (type)                 Output Shape              Param #   \n",
      "=================================================================\n",
      "vgg19 (Model)                (None, 7, 7, 512)         20024384  \n",
      "_________________________________________________________________\n",
      "flatten (Flatten)            (None, 25088)             0         \n",
      "_________________________________________________________________\n",
      "dense (Dense)                (None, 256)               6422784   \n",
      "_________________________________________________________________\n",
      "dropout (Dropout)            (None, 256)               0         \n",
      "_________________________________________________________________\n",
      "dense_1 (Dense)              (None, 256)               65792     \n",
      "_________________________________________________________________\n",
      "dropout_1 (Dropout)          (None, 256)               0         \n",
      "_________________________________________________________________\n",
      "dense_2 (Dense)              (None, 128)               32896     \n",
      "_________________________________________________________________\n",
      "dropout_2 (Dropout)          (None, 128)               0         \n",
      "_________________________________________________________________\n",
      "dense_3 (Dense)              (None, 64)                8256      \n",
      "_________________________________________________________________\n",
      "dense_4 (Dense)              (None, 4)                 260       \n",
      "=================================================================\n",
      "Total params: 26,554,372\n",
      "Trainable params: 6,529,988\n",
      "Non-trainable params: 20,024,384\n",
      "_________________________________________________________________\n"
     ]
    }
   ],
   "source": [
    "# here we are going to make our model that uses VGG16 plus additional models\n",
    "vgg19 = tf.keras.applications.VGG19(input_shape=(224,224,3),include_top=False,weights='imagenet')\n",
    "vgg19.trainable = False \n",
    "\n",
    "model = Sequential()\n",
    "model.add(vgg19)\n",
    "model.add(Flatten())\n",
    "model.add(Dense(256,activation='relu'))\n",
    "model.add(Dropout(.2))\n",
    "model.add(Dense(256,activation='relu'))\n",
    "model.add(Dropout(.2))\n",
    "model.add(Dense(128,activation='relu'))\n",
    "model.add(Dropout(.2))\n",
    "model.add(Dense(64,activation='relu'))\n",
    "model.add(Dense(4))\n",
    "\n",
    "\n",
    "model.summary()        "
   ]
  },
  {
   "cell_type": "markdown",
   "metadata": {},
   "source": [
    "#### Build Second Model "
   ]
  },
  {
   "cell_type": "code",
   "execution_count": 16,
   "metadata": {},
   "outputs": [
    {
     "name": "stdout",
     "output_type": "stream",
     "text": [
      "Model: \"sequential_2\"\n",
      "_________________________________________________________________\n",
      "Layer (type)                 Output Shape              Param #   \n",
      "=================================================================\n",
      "densenet121 (Model)          (None, 7, 7, 1024)        7037504   \n",
      "_________________________________________________________________\n",
      "flatten_2 (Flatten)          (None, 50176)             0         \n",
      "_________________________________________________________________\n",
      "dense_12 (Dense)             (None, 256)               12845312  \n",
      "_________________________________________________________________\n",
      "dropout_8 (Dropout)          (None, 256)               0         \n",
      "_________________________________________________________________\n",
      "dense_13 (Dense)             (None, 256)               65792     \n",
      "_________________________________________________________________\n",
      "dropout_9 (Dropout)          (None, 256)               0         \n",
      "_________________________________________________________________\n",
      "dense_14 (Dense)             (None, 256)               65792     \n",
      "_________________________________________________________________\n",
      "dropout_10 (Dropout)         (None, 256)               0         \n",
      "_________________________________________________________________\n",
      "dense_15 (Dense)             (None, 256)               65792     \n",
      "_________________________________________________________________\n",
      "dropout_11 (Dropout)         (None, 256)               0         \n",
      "_________________________________________________________________\n",
      "dense_16 (Dense)             (None, 128)               32896     \n",
      "_________________________________________________________________\n",
      "dropout_12 (Dropout)         (None, 128)               0         \n",
      "_________________________________________________________________\n",
      "dense_17 (Dense)             (None, 64)                8256      \n",
      "_________________________________________________________________\n",
      "dropout_13 (Dropout)         (None, 64)                0         \n",
      "_________________________________________________________________\n",
      "dense_18 (Dense)             (None, 64)                4160      \n",
      "_________________________________________________________________\n",
      "dense_19 (Dense)             (None, 4)                 260       \n",
      "=================================================================\n",
      "Total params: 20,125,764\n",
      "Trainable params: 20,042,116\n",
      "Non-trainable params: 83,648\n",
      "_________________________________________________________________\n"
     ]
    }
   ],
   "source": [
    "densenet = tf.keras.applications.DenseNet121(input_shape=(224,224,3),include_top=False,weights='imagenet')\n",
    "\n",
    "model2 = Sequential()\n",
    "model2.add(densenet)\n",
    "model2.add(Flatten())\n",
    "model2.add(Dense(256, activation='relu'))\n",
    "model2.add(Dropout(.25))\n",
    "model2.add(Dense(256, activation='relu'))\n",
    "model2.add(Dropout(.25))\n",
    "model2.add(Dense(256, activation='relu'))\n",
    "model2.add(Dropout(.25))\n",
    "model2.add(Dense(256, activation='relu'))\n",
    "model2.add(Dropout(.25))\n",
    "model2.add(Dense(128,activation='relu'))\n",
    "model2.add(Dropout(.25))\n",
    "model2.add(Dense(64,activation='relu'))\n",
    "model2.add(Dropout(.25))\n",
    "model2.add(Dense(64,activation='relu'))\n",
    "model2.add(Dense(4))\n",
    "\n",
    "\n",
    "model2.summary()        "
   ]
  },
  {
   "cell_type": "markdown",
   "metadata": {
    "nbpresent": {
     "id": "66140980-2aa4-457f-b1df-74c10c234cc2"
    }
   },
   "source": [
    "#### [5 points] Train Model"
   ]
  },
  {
   "cell_type": "code",
   "execution_count": 17,
   "metadata": {
    "nbpresent": {
     "id": "cdb90d24-6a23-4969-8138-f37e7050062d"
    }
   },
   "outputs": [
    {
     "name": "stdout",
     "output_type": "stream",
     "text": [
      "22\n",
      "6\n"
     ]
    },
    {
     "name": "stderr",
     "output_type": "stream",
     "text": [
      "C:\\Users\\Tiam\\Anaconda3\\lib\\site-packages\\keras_preprocessing\\image\\image_data_generator.py:716: UserWarning: This ImageDataGenerator specifies `featurewise_center`, but it hasn't been fit on any training data. Fit it first by calling `.fit(numpy_data)`.\n",
      "  warnings.warn('This ImageDataGenerator specifies '\n",
      "C:\\Users\\Tiam\\Anaconda3\\lib\\site-packages\\keras_preprocessing\\image\\image_data_generator.py:735: UserWarning: This ImageDataGenerator specifies `zca_whitening`, but it hasn't been fit on any training data. Fit it first by calling `.fit(numpy_data)`.\n",
      "  warnings.warn('This ImageDataGenerator specifies '\n"
     ]
    },
    {
     "name": "stdout",
     "output_type": "stream",
     "text": [
      "WARNING:tensorflow:sample_weight modes were coerced from\n",
      "  ...\n",
      "    to  \n",
      "  ['...']\n",
      "WARNING:tensorflow:sample_weight modes were coerced from\n",
      "  ...\n",
      "    to  \n",
      "  ['...']\n",
      "Train for 21 steps, validate for 5 steps\n",
      "Epoch 1/75\n"
     ]
    },
    {
     "name": "stderr",
     "output_type": "stream",
     "text": [
      "C:\\Users\\Tiam\\Anaconda3\\lib\\site-packages\\keras_preprocessing\\image\\image_data_generator.py:716: UserWarning: This ImageDataGenerator specifies `featurewise_center`, but it hasn't been fit on any training data. Fit it first by calling `.fit(numpy_data)`.\n",
      "  warnings.warn('This ImageDataGenerator specifies '\n",
      "C:\\Users\\Tiam\\Anaconda3\\lib\\site-packages\\keras_preprocessing\\image\\image_data_generator.py:735: UserWarning: This ImageDataGenerator specifies `zca_whitening`, but it hasn't been fit on any training data. Fit it first by calling `.fit(numpy_data)`.\n",
      "  warnings.warn('This ImageDataGenerator specifies '\n"
     ]
    },
    {
     "name": "stdout",
     "output_type": "stream",
     "text": [
      "21/21 [==============================] - 39s 2s/step - loss: 0.7059 - accuracy: 0.6990 - val_loss: 0.6500 - val_accuracy: 0.6400\n",
      "Epoch 2/75\n",
      "21/21 [==============================] - 37s 2s/step - loss: 0.6910 - accuracy: 0.6699 - val_loss: 0.6231 - val_accuracy: 0.6600\n",
      "Epoch 3/75\n",
      "21/21 [==============================] - 38s 2s/step - loss: 0.6331 - accuracy: 0.7524 - val_loss: 0.5199 - val_accuracy: 0.7200\n",
      "Epoch 4/75\n",
      "21/21 [==============================] - 37s 2s/step - loss: 0.6714 - accuracy: 0.6990 - val_loss: 0.5532 - val_accuracy: 0.6600\n",
      "Epoch 5/75\n",
      "21/21 [==============================] - 37s 2s/step - loss: 0.7308 - accuracy: 0.6845 - val_loss: 0.5253 - val_accuracy: 0.7400\n",
      "Epoch 6/75\n",
      "21/21 [==============================] - 37s 2s/step - loss: 0.6144 - accuracy: 0.7379 - val_loss: 0.6007 - val_accuracy: 0.7000\n",
      "Epoch 7/75\n",
      "21/21 [==============================] - 37s 2s/step - loss: 0.7188 - accuracy: 0.6602 - val_loss: 0.7652 - val_accuracy: 0.6200\n",
      "Epoch 8/75\n",
      "21/21 [==============================] - 38s 2s/step - loss: 0.7264 - accuracy: 0.6845 - val_loss: 0.6191 - val_accuracy: 0.6800\n",
      "Epoch 9/75\n",
      "21/21 [==============================] - 38s 2s/step - loss: 0.6618 - accuracy: 0.7330 - val_loss: 0.5629 - val_accuracy: 0.7200\n",
      "Epoch 10/75\n",
      "21/21 [==============================] - 38s 2s/step - loss: 0.7173 - accuracy: 0.6699 - val_loss: 0.5601 - val_accuracy: 0.7000\n",
      "Epoch 11/75\n",
      "21/21 [==============================] - 38s 2s/step - loss: 0.6964 - accuracy: 0.6699 - val_loss: 0.8010 - val_accuracy: 0.6000\n",
      "Epoch 12/75\n",
      "21/21 [==============================] - 37s 2s/step - loss: 0.6512 - accuracy: 0.7136 - val_loss: 0.5857 - val_accuracy: 0.7400\n",
      "Epoch 13/75\n",
      "21/21 [==============================] - 37s 2s/step - loss: 0.7097 - accuracy: 0.7039 - val_loss: 0.5822 - val_accuracy: 0.6600\n",
      "Epoch 14/75\n",
      "21/21 [==============================] - 37s 2s/step - loss: 0.7002 - accuracy: 0.6942 - val_loss: 0.5231 - val_accuracy: 0.6800\n",
      "Epoch 15/75\n",
      "21/21 [==============================] - 37s 2s/step - loss: 0.7155 - accuracy: 0.6845 - val_loss: 0.6200 - val_accuracy: 0.6800\n",
      "Epoch 16/75\n",
      "21/21 [==============================] - 37s 2s/step - loss: 0.6523 - accuracy: 0.7039 - val_loss: 0.6545 - val_accuracy: 0.6600\n",
      "Epoch 17/75\n",
      "21/21 [==============================] - 37s 2s/step - loss: 0.6411 - accuracy: 0.6990 - val_loss: 0.5324 - val_accuracy: 0.7200\n",
      "Epoch 18/75\n",
      "21/21 [==============================] - 37s 2s/step - loss: 0.7054 - accuracy: 0.6796 - val_loss: 0.6363 - val_accuracy: 0.6200\n",
      "Epoch 19/75\n",
      "21/21 [==============================] - 38s 2s/step - loss: 0.6508 - accuracy: 0.7184 - val_loss: 0.6705 - val_accuracy: 0.6400\n",
      "Epoch 20/75\n",
      "21/21 [==============================] - 37s 2s/step - loss: 0.6698 - accuracy: 0.6893 - val_loss: 0.6381 - val_accuracy: 0.6600\n",
      "Epoch 21/75\n",
      "21/21 [==============================] - 37s 2s/step - loss: 0.6356 - accuracy: 0.6796 - val_loss: 0.7949 - val_accuracy: 0.6800\n",
      "Epoch 22/75\n",
      "21/21 [==============================] - 37s 2s/step - loss: 0.6495 - accuracy: 0.6942 - val_loss: 0.6461 - val_accuracy: 0.6600\n",
      "Epoch 23/75\n",
      "21/21 [==============================] - 37s 2s/step - loss: 0.6407 - accuracy: 0.7184 - val_loss: 0.6554 - val_accuracy: 0.6400\n",
      "Epoch 24/75\n",
      "21/21 [==============================] - 37s 2s/step - loss: 0.7081 - accuracy: 0.6602 - val_loss: 0.5843 - val_accuracy: 0.7000\n",
      "Epoch 25/75\n",
      "21/21 [==============================] - 37s 2s/step - loss: 0.6222 - accuracy: 0.7087 - val_loss: 0.5720 - val_accuracy: 0.6600\n",
      "Epoch 26/75\n",
      "21/21 [==============================] - 38s 2s/step - loss: 0.6587 - accuracy: 0.7087 - val_loss: 0.7070 - val_accuracy: 0.6600\n",
      "Epoch 27/75\n",
      "21/21 [==============================] - 38s 2s/step - loss: 0.6987 - accuracy: 0.6942 - val_loss: 0.6678 - val_accuracy: 0.6200\n",
      "Epoch 28/75\n",
      "21/21 [==============================] - 38s 2s/step - loss: 0.6766 - accuracy: 0.6845 - val_loss: 0.5121 - val_accuracy: 0.7800\n",
      "Epoch 29/75\n",
      "21/21 [==============================] - 37s 2s/step - loss: 0.6559 - accuracy: 0.6893 - val_loss: 0.5118 - val_accuracy: 0.6600\n",
      "Epoch 30/75\n",
      "21/21 [==============================] - 39s 2s/step - loss: 0.6239 - accuracy: 0.7233 - val_loss: 0.7382 - val_accuracy: 0.6400\n",
      "Epoch 31/75\n",
      "21/21 [==============================] - 38s 2s/step - loss: 0.5946 - accuracy: 0.7427 - val_loss: 0.5658 - val_accuracy: 0.6400\n",
      "Epoch 32/75\n",
      "21/21 [==============================] - 38s 2s/step - loss: 0.6374 - accuracy: 0.6942 - val_loss: 0.6759 - val_accuracy: 0.6400\n",
      "Epoch 33/75\n",
      "21/21 [==============================] - 39s 2s/step - loss: 0.6875 - accuracy: 0.6748 - val_loss: 0.4652 - val_accuracy: 0.7400\n",
      "Epoch 34/75\n",
      "21/21 [==============================] - 38s 2s/step - loss: 0.6328 - accuracy: 0.6893 - val_loss: 0.4548 - val_accuracy: 0.7400\n",
      "Epoch 35/75\n",
      "21/21 [==============================] - 38s 2s/step - loss: 0.6398 - accuracy: 0.7233 - val_loss: 0.5827 - val_accuracy: 0.6800\n",
      "Epoch 36/75\n",
      "21/21 [==============================] - 38s 2s/step - loss: 0.6607 - accuracy: 0.6845 - val_loss: 0.6189 - val_accuracy: 0.6600\n",
      "Epoch 37/75\n",
      "21/21 [==============================] - 37s 2s/step - loss: 0.6428 - accuracy: 0.7087 - val_loss: 0.5962 - val_accuracy: 0.6400\n",
      "Epoch 38/75\n",
      "21/21 [==============================] - 37s 2s/step - loss: 0.6498 - accuracy: 0.7282 - val_loss: 0.5385 - val_accuracy: 0.7200\n",
      "Epoch 39/75\n",
      "21/21 [==============================] - 37s 2s/step - loss: 0.6422 - accuracy: 0.7136 - val_loss: 0.6299 - val_accuracy: 0.6600\n",
      "Epoch 40/75\n",
      "21/21 [==============================] - 37s 2s/step - loss: 0.6216 - accuracy: 0.7330 - val_loss: 0.4969 - val_accuracy: 0.7600\n",
      "Epoch 41/75\n",
      "21/21 [==============================] - 38s 2s/step - loss: 0.5752 - accuracy: 0.7427 - val_loss: 0.5701 - val_accuracy: 0.7000\n",
      "Epoch 42/75\n",
      "21/21 [==============================] - 38s 2s/step - loss: 0.6637 - accuracy: 0.6990 - val_loss: 0.6768 - val_accuracy: 0.6800\n",
      "Epoch 43/75\n",
      "21/21 [==============================] - 37s 2s/step - loss: 0.6105 - accuracy: 0.7427 - val_loss: 0.6388 - val_accuracy: 0.6600\n",
      "Epoch 44/75\n",
      "21/21 [==============================] - 37s 2s/step - loss: 0.7166 - accuracy: 0.6796 - val_loss: 0.6266 - val_accuracy: 0.7000\n",
      "Epoch 45/75\n",
      "21/21 [==============================] - 37s 2s/step - loss: 0.6633 - accuracy: 0.7282 - val_loss: 0.5949 - val_accuracy: 0.6800\n",
      "Epoch 46/75\n",
      "21/21 [==============================] - 38s 2s/step - loss: 0.6344 - accuracy: 0.7333 - val_loss: 0.5580 - val_accuracy: 0.7000\n",
      "Epoch 47/75\n",
      "21/21 [==============================] - 37s 2s/step - loss: 0.7047 - accuracy: 0.6845 - val_loss: 0.6617 - val_accuracy: 0.6400\n",
      "Epoch 48/75\n",
      "21/21 [==============================] - 37s 2s/step - loss: 0.6442 - accuracy: 0.6990 - val_loss: 0.6310 - val_accuracy: 0.6200\n",
      "Epoch 49/75\n",
      "21/21 [==============================] - 37s 2s/step - loss: 0.6288 - accuracy: 0.7282 - val_loss: 0.6512 - val_accuracy: 0.6200\n",
      "Epoch 50/75\n",
      "21/21 [==============================] - 37s 2s/step - loss: 0.6575 - accuracy: 0.7039 - val_loss: 0.6980 - val_accuracy: 0.5600\n",
      "Epoch 51/75\n",
      "21/21 [==============================] - 38s 2s/step - loss: 0.6025 - accuracy: 0.6893 - val_loss: 0.6375 - val_accuracy: 0.6800\n",
      "Epoch 52/75\n",
      "21/21 [==============================] - 38s 2s/step - loss: 0.6093 - accuracy: 0.7233 - val_loss: 0.5189 - val_accuracy: 0.7800\n",
      "Epoch 53/75\n",
      "21/21 [==============================] - 37s 2s/step - loss: 0.6238 - accuracy: 0.7087 - val_loss: 0.5193 - val_accuracy: 0.6800\n",
      "Epoch 54/75\n",
      "21/21 [==============================] - 37s 2s/step - loss: 0.6115 - accuracy: 0.7282 - val_loss: 0.6100 - val_accuracy: 0.7000\n",
      "Epoch 55/75\n",
      "21/21 [==============================] - 38s 2s/step - loss: 0.6003 - accuracy: 0.6942 - val_loss: 0.5276 - val_accuracy: 0.6800\n",
      "Epoch 56/75\n",
      "21/21 [==============================] - 38s 2s/step - loss: 0.6428 - accuracy: 0.6650 - val_loss: 0.7078 - val_accuracy: 0.6200\n",
      "Epoch 57/75\n",
      "21/21 [==============================] - 39s 2s/step - loss: 0.6127 - accuracy: 0.7136 - val_loss: 0.4813 - val_accuracy: 0.7200\n",
      "Epoch 58/75\n",
      "21/21 [==============================] - 38s 2s/step - loss: 0.6048 - accuracy: 0.7476 - val_loss: 0.5966 - val_accuracy: 0.6400\n",
      "Epoch 59/75\n",
      "21/21 [==============================] - 38s 2s/step - loss: 0.6809 - accuracy: 0.6748 - val_loss: 0.5544 - val_accuracy: 0.6400\n",
      "Epoch 60/75\n",
      "21/21 [==============================] - 37s 2s/step - loss: 0.6428 - accuracy: 0.7087 - val_loss: 0.5223 - val_accuracy: 0.6800\n",
      "Epoch 61/75\n",
      "21/21 [==============================] - 38s 2s/step - loss: 0.6787 - accuracy: 0.6893 - val_loss: 0.6235 - val_accuracy: 0.6000\n",
      "Epoch 62/75\n",
      "21/21 [==============================] - 40s 2s/step - loss: 0.6705 - accuracy: 0.7087 - val_loss: 0.5310 - val_accuracy: 0.6600\n",
      "Epoch 63/75\n",
      "21/21 [==============================] - 40s 2s/step - loss: 0.6387 - accuracy: 0.7087 - val_loss: 0.5484 - val_accuracy: 0.6800\n",
      "Epoch 64/75\n",
      "21/21 [==============================] - 39s 2s/step - loss: 0.6440 - accuracy: 0.7136 - val_loss: 0.5352 - val_accuracy: 0.7000\n",
      "Epoch 65/75\n",
      "21/21 [==============================] - 38s 2s/step - loss: 0.6386 - accuracy: 0.7282 - val_loss: 0.6864 - val_accuracy: 0.5800\n",
      "Epoch 66/75\n",
      "21/21 [==============================] - 37s 2s/step - loss: 0.6435 - accuracy: 0.7233 - val_loss: 0.4489 - val_accuracy: 0.7600\n",
      "Epoch 67/75\n",
      "21/21 [==============================] - 37s 2s/step - loss: 0.6140 - accuracy: 0.7039 - val_loss: 0.6591 - val_accuracy: 0.6400\n",
      "Epoch 68/75\n",
      "21/21 [==============================] - 39s 2s/step - loss: 0.5752 - accuracy: 0.7330 - val_loss: 0.6613 - val_accuracy: 0.6400\n",
      "Epoch 69/75\n",
      "21/21 [==============================] - 39s 2s/step - loss: 0.5935 - accuracy: 0.7233 - val_loss: 0.6256 - val_accuracy: 0.6600\n",
      "Epoch 70/75\n",
      "21/21 [==============================] - 39s 2s/step - loss: 0.5222 - accuracy: 0.7476 - val_loss: 0.5390 - val_accuracy: 0.7000\n",
      "Epoch 71/75\n",
      "21/21 [==============================] - 38s 2s/step - loss: 0.5766 - accuracy: 0.7573 - val_loss: 0.7153 - val_accuracy: 0.6000\n",
      "Epoch 72/75\n",
      "21/21 [==============================] - 39s 2s/step - loss: 0.6553 - accuracy: 0.6990 - val_loss: 0.6193 - val_accuracy: 0.6200\n",
      "Epoch 73/75\n",
      "21/21 [==============================] - 40s 2s/step - loss: 0.6645 - accuracy: 0.6748 - val_loss: 0.6057 - val_accuracy: 0.6400\n",
      "Epoch 74/75\n",
      "21/21 [==============================] - 39s 2s/step - loss: 0.6258 - accuracy: 0.6990 - val_loss: 0.6466 - val_accuracy: 0.5400\n",
      "Epoch 75/75\n",
      "21/21 [==============================] - 39s 2s/step - loss: 0.6220 - accuracy: 0.7330 - val_loss: 0.6610 - val_accuracy: 0.6000\n"
     ]
    }
   ],
   "source": [
    "#FIT MODEL\n",
    "print(len(train_batches))\n",
    "print(len(valid_batches))\n",
    "\n",
    "STEP_SIZE_TRAIN=train_batches.n//train_batches.batch_size\n",
    "STEP_SIZE_VALID=valid_batches.n//valid_batches.batch_size\n",
    "\n",
    "adam = Adam(LEARNING_RATE)\n",
    "\n",
    "model.compile(optimizer=adam,\n",
    "                loss=tf.keras.losses.CategoricalCrossentropy(from_logits=True),\n",
    "                metrics=['accuracy'])\n",
    "\n",
    "history = model.fit(train_batches,\n",
    "                    steps_per_epoch=STEP_SIZE_TRAIN,\n",
    "                    validation_data=valid_batches,\n",
    "                    validation_steps=STEP_SIZE_VALID,\n",
    "                    epochs=NUM_EPOCHS)"
   ]
  },
  {
   "cell_type": "markdown",
   "metadata": {},
   "source": [
    "#### Train Second Model "
   ]
  },
  {
   "cell_type": "code",
   "execution_count": 7,
   "metadata": {
    "scrolled": true
   },
   "outputs": [
    {
     "name": "stdout",
     "output_type": "stream",
     "text": [
      "WARNING:tensorflow:sample_weight modes were coerced from\n",
      "  ...\n",
      "    to  \n",
      "  ['...']\n",
      "WARNING:tensorflow:sample_weight modes were coerced from\n",
      "  ...\n",
      "    to  \n",
      "  ['...']\n",
      "Train for 21 steps, validate for 5 steps\n",
      "Epoch 1/75\n"
     ]
    },
    {
     "name": "stderr",
     "output_type": "stream",
     "text": [
      "C:\\Users\\Tiam\\Anaconda3\\lib\\site-packages\\keras_preprocessing\\image\\image_data_generator.py:716: UserWarning: This ImageDataGenerator specifies `featurewise_center`, but it hasn't been fit on any training data. Fit it first by calling `.fit(numpy_data)`.\n",
      "  warnings.warn('This ImageDataGenerator specifies '\n",
      "C:\\Users\\Tiam\\Anaconda3\\lib\\site-packages\\keras_preprocessing\\image\\image_data_generator.py:735: UserWarning: This ImageDataGenerator specifies `zca_whitening`, but it hasn't been fit on any training data. Fit it first by calling `.fit(numpy_data)`.\n",
      "  warnings.warn('This ImageDataGenerator specifies '\n"
     ]
    },
    {
     "name": "stdout",
     "output_type": "stream",
     "text": [
      "21/21 [==============================] - 473s 23s/step - loss: 1.7955 - accuracy: 0.2476 - val_loss: 1.4177 - val_accuracy: 0.2600\n",
      "Epoch 2/75\n",
      "21/21 [==============================] - 98s 5s/step - loss: 1.7831 - accuracy: 0.2476 - val_loss: 1.3950 - val_accuracy: 0.2800\n",
      "Epoch 3/75\n",
      "21/21 [==============================] - 97s 5s/step - loss: 1.6067 - accuracy: 0.2476 - val_loss: 1.3939 - val_accuracy: 0.3000\n",
      "Epoch 4/75\n",
      "21/21 [==============================] - 97s 5s/step - loss: 1.5238 - accuracy: 0.2573 - val_loss: 1.3675 - val_accuracy: 0.4000\n",
      "Epoch 5/75\n",
      "21/21 [==============================] - 97s 5s/step - loss: 1.4989 - accuracy: 0.2621 - val_loss: 1.3345 - val_accuracy: 0.4800\n",
      "Epoch 6/75\n",
      "21/21 [==============================] - 98s 5s/step - loss: 1.3950 - accuracy: 0.3447 - val_loss: 1.3784 - val_accuracy: 0.2400\n",
      "Epoch 7/75\n",
      "21/21 [==============================] - 97s 5s/step - loss: 1.4200 - accuracy: 0.2864 - val_loss: 1.3764 - val_accuracy: 0.3000\n",
      "Epoch 8/75\n",
      "21/21 [==============================] - 97s 5s/step - loss: 1.3613 - accuracy: 0.3301 - val_loss: 1.3818 - val_accuracy: 0.2200\n",
      "Epoch 9/75\n",
      "21/21 [==============================] - 97s 5s/step - loss: 1.4244 - accuracy: 0.2961 - val_loss: 1.3391 - val_accuracy: 0.4800\n",
      "Epoch 10/75\n",
      "21/21 [==============================] - 97s 5s/step - loss: 1.3788 - accuracy: 0.3350 - val_loss: 1.3240 - val_accuracy: 0.4000\n",
      "Epoch 11/75\n",
      "21/21 [==============================] - 1262s 60s/step - loss: 1.3773 - accuracy: 0.3010 - val_loss: 1.3217 - val_accuracy: 0.2800\n",
      "Epoch 12/75\n",
      "21/21 [==============================] - 103s 5s/step - loss: 1.3454 - accuracy: 0.3592 - val_loss: 1.2344 - val_accuracy: 0.4400\n",
      "Epoch 13/75\n",
      "21/21 [==============================] - 97s 5s/step - loss: 1.2647 - accuracy: 0.3786 - val_loss: 1.1326 - val_accuracy: 0.5200\n",
      "Epoch 14/75\n",
      "21/21 [==============================] - 97s 5s/step - loss: 1.2178 - accuracy: 0.3981 - val_loss: 1.0787 - val_accuracy: 0.4600\n",
      "Epoch 15/75\n",
      "21/21 [==============================] - 98s 5s/step - loss: 1.1896 - accuracy: 0.4029 - val_loss: 0.9547 - val_accuracy: 0.5600\n",
      "Epoch 16/75\n",
      "21/21 [==============================] - 97s 5s/step - loss: 1.1933 - accuracy: 0.4272 - val_loss: 1.0213 - val_accuracy: 0.4800\n",
      "Epoch 17/75\n",
      "21/21 [==============================] - 97s 5s/step - loss: 1.2134 - accuracy: 0.3835 - val_loss: 0.9863 - val_accuracy: 0.5800\n",
      "Epoch 18/75\n",
      "21/21 [==============================] - 97s 5s/step - loss: 1.1060 - accuracy: 0.4806 - val_loss: 0.9689 - val_accuracy: 0.5000\n",
      "Epoch 19/75\n",
      "21/21 [==============================] - 97s 5s/step - loss: 1.1584 - accuracy: 0.4757 - val_loss: 0.8714 - val_accuracy: 0.6400\n",
      "Epoch 20/75\n",
      "21/21 [==============================] - 97s 5s/step - loss: 1.0713 - accuracy: 0.4612 - val_loss: 0.8259 - val_accuracy: 0.6600\n",
      "Epoch 21/75\n",
      "21/21 [==============================] - 97s 5s/step - loss: 1.0003 - accuracy: 0.5583 - val_loss: 0.7641 - val_accuracy: 0.7000\n",
      "Epoch 22/75\n",
      "21/21 [==============================] - 5481s 261s/step - loss: 1.0634 - accuracy: 0.5000 - val_loss: 0.8398 - val_accuracy: 0.6600\n",
      "Epoch 23/75\n",
      "21/21 [==============================] - 97s 5s/step - loss: 0.9266 - accuracy: 0.6068 - val_loss: 0.6029 - val_accuracy: 0.8600\n",
      "Epoch 24/75\n",
      "21/21 [==============================] - 97s 5s/step - loss: 0.7752 - accuracy: 0.6942 - val_loss: 0.7177 - val_accuracy: 0.6400\n",
      "Epoch 25/75\n",
      "21/21 [==============================] - 98s 5s/step - loss: 0.8188 - accuracy: 0.6505 - val_loss: 0.5794 - val_accuracy: 0.7400\n",
      "Epoch 26/75\n",
      "21/21 [==============================] - 98s 5s/step - loss: 0.8642 - accuracy: 0.6068 - val_loss: 0.8074 - val_accuracy: 0.7800\n",
      "Epoch 27/75\n",
      "21/21 [==============================] - 97s 5s/step - loss: 0.8417 - accuracy: 0.6117 - val_loss: 0.5944 - val_accuracy: 0.6400\n",
      "Epoch 28/75\n",
      "21/21 [==============================] - 99s 5s/step - loss: 0.8061 - accuracy: 0.6019 - val_loss: 1.0289 - val_accuracy: 0.5200\n",
      "Epoch 29/75\n",
      "21/21 [==============================] - 98s 5s/step - loss: 0.7544 - accuracy: 0.6165 - val_loss: 0.8431 - val_accuracy: 0.6000\n",
      "Epoch 30/75\n",
      "21/21 [==============================] - 97s 5s/step - loss: 0.7535 - accuracy: 0.6505 - val_loss: 0.8400 - val_accuracy: 0.6400\n",
      "Epoch 31/75\n",
      "21/21 [==============================] - 97s 5s/step - loss: 0.8408 - accuracy: 0.5825 - val_loss: 0.8325 - val_accuracy: 0.5800\n",
      "Epoch 32/75\n",
      "21/21 [==============================] - 97s 5s/step - loss: 0.7561 - accuracy: 0.6845 - val_loss: 0.4908 - val_accuracy: 0.7800\n",
      "Epoch 33/75\n",
      "21/21 [==============================] - 1232s 59s/step - loss: 0.6568 - accuracy: 0.6748 - val_loss: 0.5801 - val_accuracy: 0.6800\n",
      "Epoch 34/75\n",
      "21/21 [==============================] - 101s 5s/step - loss: 0.6811 - accuracy: 0.6602 - val_loss: 0.4678 - val_accuracy: 0.7800\n",
      "Epoch 35/75\n",
      "21/21 [==============================] - 98s 5s/step - loss: 0.6162 - accuracy: 0.6845 - val_loss: 0.5904 - val_accuracy: 0.6600\n",
      "Epoch 36/75\n",
      "21/21 [==============================] - 99s 5s/step - loss: 0.6847 - accuracy: 0.6505 - val_loss: 1.5818 - val_accuracy: 0.5600\n",
      "Epoch 37/75\n",
      "21/21 [==============================] - 99s 5s/step - loss: 0.6326 - accuracy: 0.6990 - val_loss: 0.6008 - val_accuracy: 0.6400\n",
      "Epoch 38/75\n",
      "21/21 [==============================] - 98s 5s/step - loss: 0.6325 - accuracy: 0.7039 - val_loss: 0.8063 - val_accuracy: 0.6200\n",
      "Epoch 39/75\n",
      "21/21 [==============================] - 97s 5s/step - loss: 0.6290 - accuracy: 0.6942 - val_loss: 0.8846 - val_accuracy: 0.6600\n",
      "Epoch 40/75\n",
      "21/21 [==============================] - 99s 5s/step - loss: 0.6699 - accuracy: 0.6699 - val_loss: 0.6200 - val_accuracy: 0.6800\n",
      "Epoch 41/75\n",
      "21/21 [==============================] - 101s 5s/step - loss: 0.6819 - accuracy: 0.6553 - val_loss: 1.0001 - val_accuracy: 0.6200\n",
      "Epoch 42/75\n",
      "21/21 [==============================] - 98s 5s/step - loss: 0.6857 - accuracy: 0.6456 - val_loss: 0.5082 - val_accuracy: 0.7000\n",
      "Epoch 43/75\n",
      "21/21 [==============================] - 97s 5s/step - loss: 0.6104 - accuracy: 0.7282 - val_loss: 0.6749 - val_accuracy: 0.7200\n",
      "Epoch 44/75\n",
      "21/21 [==============================] - 97s 5s/step - loss: 0.6100 - accuracy: 0.6893 - val_loss: 0.5377 - val_accuracy: 0.8200\n",
      "Epoch 45/75\n",
      "21/21 [==============================] - 97s 5s/step - loss: 0.6041 - accuracy: 0.6505 - val_loss: 0.4719 - val_accuracy: 0.7000\n",
      "Epoch 46/75\n",
      "21/21 [==============================] - 97s 5s/step - loss: 0.5451 - accuracy: 0.7184 - val_loss: 0.6531 - val_accuracy: 0.7400\n",
      "Epoch 47/75\n",
      "21/21 [==============================] - 97s 5s/step - loss: 0.6023 - accuracy: 0.7087 - val_loss: 0.4460 - val_accuracy: 0.7600\n",
      "Epoch 48/75\n",
      "21/21 [==============================] - 102s 5s/step - loss: 0.6050 - accuracy: 0.6905 - val_loss: 0.4338 - val_accuracy: 0.7400\n",
      "Epoch 49/75\n",
      "21/21 [==============================] - 101s 5s/step - loss: 0.5517 - accuracy: 0.6893 - val_loss: 0.4002 - val_accuracy: 0.7200\n",
      "Epoch 50/75\n",
      "21/21 [==============================] - 101s 5s/step - loss: 0.5461 - accuracy: 0.7087 - val_loss: 0.4302 - val_accuracy: 0.7400\n",
      "Epoch 51/75\n",
      "21/21 [==============================] - 97s 5s/step - loss: 0.5990 - accuracy: 0.7233 - val_loss: 0.8560 - val_accuracy: 0.6600\n",
      "Epoch 52/75\n",
      "21/21 [==============================] - 25289s 1204s/step - loss: 0.6120 - accuracy: 0.7048 - val_loss: 0.4521 - val_accuracy: 0.8200\n",
      "Epoch 53/75\n",
      "21/21 [==============================] - 98s 5s/step - loss: 0.6001 - accuracy: 0.7087 - val_loss: 1.0998 - val_accuracy: 0.6000\n",
      "Epoch 54/75\n",
      "21/21 [==============================] - 99s 5s/step - loss: 0.5474 - accuracy: 0.7427 - val_loss: 0.6835 - val_accuracy: 0.6200\n",
      "Epoch 55/75\n",
      "21/21 [==============================] - 103s 5s/step - loss: 0.5400 - accuracy: 0.7136 - val_loss: 0.6558 - val_accuracy: 0.6400\n",
      "Epoch 56/75\n",
      "21/21 [==============================] - 99s 5s/step - loss: 0.5195 - accuracy: 0.7087 - val_loss: 0.5631 - val_accuracy: 0.7400\n",
      "Epoch 57/75\n",
      "21/21 [==============================] - 97s 5s/step - loss: 0.5313 - accuracy: 0.7136 - val_loss: 1.0003 - val_accuracy: 0.6800\n",
      "Epoch 58/75\n",
      "21/21 [==============================] - 105s 5s/step - loss: 0.4800 - accuracy: 0.7330 - val_loss: 0.6693 - val_accuracy: 0.7800\n",
      "Epoch 59/75\n"
     ]
    },
    {
     "name": "stdout",
     "output_type": "stream",
     "text": [
      "21/21 [==============================] - 107s 5s/step - loss: 0.4867 - accuracy: 0.7816 - val_loss: 0.7082 - val_accuracy: 0.7000\n",
      "Epoch 60/75\n",
      "21/21 [==============================] - 104s 5s/step - loss: 0.5670 - accuracy: 0.7087 - val_loss: 0.4842 - val_accuracy: 0.6800\n",
      "Epoch 61/75\n",
      "21/21 [==============================] - 107s 5s/step - loss: 0.4845 - accuracy: 0.7282 - val_loss: 0.5114 - val_accuracy: 0.7400\n",
      "Epoch 62/75\n",
      "21/21 [==============================] - 102s 5s/step - loss: 0.4318 - accuracy: 0.7718 - val_loss: 0.4762 - val_accuracy: 0.7400\n",
      "Epoch 63/75\n",
      "21/21 [==============================] - 99s 5s/step - loss: 0.4877 - accuracy: 0.7524 - val_loss: 0.6413 - val_accuracy: 0.7000\n",
      "Epoch 64/75\n",
      "21/21 [==============================] - 97s 5s/step - loss: 0.4440 - accuracy: 0.7767 - val_loss: 0.4385 - val_accuracy: 0.8000\n",
      "Epoch 65/75\n",
      "21/21 [==============================] - 97s 5s/step - loss: 0.6287 - accuracy: 0.7330 - val_loss: 0.7448 - val_accuracy: 0.7200\n",
      "Epoch 66/75\n",
      "21/21 [==============================] - 96s 5s/step - loss: 0.4980 - accuracy: 0.7621 - val_loss: 0.6051 - val_accuracy: 0.7600\n",
      "Epoch 67/75\n",
      "21/21 [==============================] - 98s 5s/step - loss: 0.4551 - accuracy: 0.7670 - val_loss: 0.9916 - val_accuracy: 0.6000\n",
      "Epoch 68/75\n",
      "21/21 [==============================] - 104s 5s/step - loss: 0.4422 - accuracy: 0.7573 - val_loss: 1.2386 - val_accuracy: 0.6400\n",
      "Epoch 69/75\n",
      "21/21 [==============================] - 100s 5s/step - loss: 0.4148 - accuracy: 0.7524 - val_loss: 0.6168 - val_accuracy: 0.7400\n",
      "Epoch 70/75\n",
      "21/21 [==============================] - 97s 5s/step - loss: 0.4708 - accuracy: 0.7427 - val_loss: 2.0566 - val_accuracy: 0.6000\n",
      "Epoch 71/75\n",
      "21/21 [==============================] - 195s 9s/step - loss: 0.6202 - accuracy: 0.7039 - val_loss: 2.5854 - val_accuracy: 0.4400\n",
      "Epoch 72/75\n",
      "21/21 [==============================] - 97s 5s/step - loss: 0.6088 - accuracy: 0.7136 - val_loss: 1.7209 - val_accuracy: 0.5400\n",
      "Epoch 73/75\n",
      "21/21 [==============================] - 99s 5s/step - loss: 0.5511 - accuracy: 0.7095 - val_loss: 1.4782 - val_accuracy: 0.5600\n",
      "Epoch 74/75\n",
      "21/21 [==============================] - 98s 5s/step - loss: 0.6716 - accuracy: 0.7427 - val_loss: 0.8728 - val_accuracy: 0.6400\n",
      "Epoch 75/75\n",
      "21/21 [==============================] - 97s 5s/step - loss: 0.6869 - accuracy: 0.6942 - val_loss: 0.7755 - val_accuracy: 0.6000\n"
     ]
    }
   ],
   "source": [
    "STEP_SIZE_TRAIN=train_batches.n//train_batches.batch_size\n",
    "STEP_SIZE_VALID=valid_batches.n//valid_batches.batch_size\n",
    "\n",
    "adam = Adam(LEARNING_RATE)\n",
    "\n",
    "model2.compile(optimizer=adam,\n",
    "                loss=tf.keras.losses.CategoricalCrossentropy(from_logits=True),\n",
    "                metrics=['accuracy'])\n",
    "\n",
    "history2 = model2.fit(train_batches,\n",
    "                    steps_per_epoch=STEP_SIZE_TRAIN,\n",
    "                    validation_data=valid_batches,\n",
    "                    validation_steps=STEP_SIZE_VALID,\n",
    "                    epochs=NUM_EPOCHS)"
   ]
  },
  {
   "cell_type": "markdown",
   "metadata": {
    "nbpresent": {
     "id": "66140980-2aa4-457f-b1df-74c10c234cc2"
    }
   },
   "source": [
    "#### [5 points] Plot Accuracy and Loss During Training"
   ]
  },
  {
   "cell_type": "code",
   "execution_count": 25,
   "metadata": {
    "nbpresent": {
     "id": "ff342098-784a-4e20-ac34-b74ca8ebe839"
    }
   },
   "outputs": [
    {
     "data": {
      "image/png": "[encoded data removed]",
      "text/plain": [
       "<Figure size 432x288 with 1 Axes>"
      ]
     },
     "metadata": {
      "needs_background": "light"
     },
     "output_type": "display_data"
    }
   ],
   "source": [
    "import matplotlib.pyplot as plt\n",
    "\n",
    "\n",
    "plt.plot(history.history['accuracy'], label=' training accuracy')\n",
    "plt.plot(history.history['val_accuracy'], label = 'validation accuracy')\n",
    "plt.title(\"Accuracy over 75 epochs\")\n",
    "plt.xlabel('Epoch')\n",
    "plt.ylabel('Accuracy')\n",
    "plt.ylim([0, 1])\n",
    "plt.legend(loc='upper right')\n",
    "plt.grid(True)"
   ]
  },
  {
   "cell_type": "code",
   "execution_count": 30,
   "metadata": {
    "scrolled": true
   },
   "outputs": [
    {
     "data": {
      "image/png": "[encoded data removed]",
      "text/plain": [
       "<Figure size 432x288 with 1 Axes>"
      ]
     },
     "metadata": {
      "needs_background": "light"
     },
     "output_type": "display_data"
    }
   ],
   "source": [
    "plt.plot(history.history['loss'], label=' training loss')\n",
    "plt.plot(history.history['val_loss'], label = 'validation loss')\n",
    "plt.title(\"Loss over 75 epochs\")\n",
    "plt.xlabel('Epoch')\n",
    "plt.ylabel('Loss')\n",
    "plt.ylim([0.5, 1.5])\n",
    "plt.legend(loc='upper right')\n",
    "plt.grid(True)"
   ]
  },
  {
   "cell_type": "markdown",
   "metadata": {},
   "source": [
    "#### Plot Accuracy and Loss During Training of Second Model"
   ]
  },
  {
   "cell_type": "code",
   "execution_count": 27,
   "metadata": {},
   "outputs": [
    {
     "data": {
      "image/png": "[encoded data removed]",
      "text/plain": [
       "<Figure size 432x288 with 1 Axes>"
      ]
     },
     "metadata": {
      "needs_background": "light"
     },
     "output_type": "display_data"
    }
   ],
   "source": [
    "plt.plot(history2.history['accuracy'], label=' training accuracy')\n",
    "plt.plot(history2.history['val_accuracy'], label = 'validation accuracy')\n",
    "plt.title(\"Accuracy over 75 epochs\")\n",
    "plt.xlabel('Epoch')\n",
    "plt.ylabel('Accuracy')\n",
    "plt.ylim([0, 1])\n",
    "plt.legend(loc='lower right')\n",
    "plt.grid(True)"
   ]
  },
  {
   "cell_type": "code",
   "execution_count": 29,
   "metadata": {},
   "outputs": [
    {
     "data": {
      "image/png": "[encoded data removed]",
      "text/plain": [
       "<Figure size 432x288 with 1 Axes>"
      ]
     },
     "metadata": {
      "needs_background": "light"
     },
     "output_type": "display_data"
    }
   ],
   "source": [
    "plt.plot(history2.history['loss'], label=' training loss')\n",
    "plt.plot(history2.history['val_loss'], label = 'validation loss')\n",
    "plt.title(\"Loss over 75 epochs\")\n",
    "plt.xlabel('Epoch')\n",
    "plt.ylabel('Loss')\n",
    "plt.ylim([0.01, 2.2])\n",
    "plt.legend(loc='upper right')\n",
    "plt.grid(True)"
   ]
  },
  {
   "cell_type": "markdown",
   "metadata": {
    "nbpresent": {
     "id": "66140980-2aa4-457f-b1df-74c10c234cc2"
    }
   },
   "source": [
    "#### Testing Model"
   ]
  },
  {
   "cell_type": "code",
   "execution_count": 19,
   "metadata": {},
   "outputs": [
    {
     "name": "stdout",
     "output_type": "stream",
     "text": [
      "Found 36 images belonging to 4 classes.\n",
      "36\n",
      "WARNING:tensorflow:sample_weight modes were coerced from\n",
      "  ...\n",
      "    to  \n",
      "  ['...']\n",
      "36/36 [==============================] - 6s 161ms/step - loss: 0.8754 - accuracy: 0.6667\n",
      "Test loss: 0.8754034597271433\n",
      "Test accuracy: 0.6666667\n"
     ]
    }
   ],
   "source": [
    "test_datagen = ImageDataGenerator(rescale=1. / 255)\n",
    "\n",
    "eval_generator = test_datagen.flow_from_directory(TEST_DIR,target_size=IMAGE_SIZE,\n",
    "                                                  batch_size=1,shuffle=True,seed=42,class_mode=\"categorical\")\n",
    "eval_generator.reset()\n",
    "print(len(eval_generator))\n",
    "x = model.evaluate_generator(eval_generator,steps = np.ceil(len(eval_generator)),\n",
    "                           use_multiprocessing = False,verbose = 1,workers=1)\n",
    "print('Test loss:' , x[0])\n",
    "print('Test accuracy:',x[1])"
   ]
  },
  {
   "cell_type": "markdown",
   "metadata": {},
   "source": [
    "#### Testing the Second Model"
   ]
  },
  {
   "cell_type": "code",
   "execution_count": 13,
   "metadata": {},
   "outputs": [
    {
     "name": "stdout",
     "output_type": "stream",
     "text": [
      "Found 36 images belonging to 4 classes.\n",
      "36\n",
      "WARNING:tensorflow:sample_weight modes were coerced from\n",
      "  ...\n",
      "    to  \n",
      "  ['...']\n",
      "36/36 [==============================] - 3s 84ms/step - loss: 0.6729 - accuracy: 0.6667\n",
      "Test loss: 0.6729478830668099\n",
      "Test accuracy: 0.6666667\n"
     ]
    }
   ],
   "source": [
    "test_datagen = ImageDataGenerator(rescale=1. / 255)\n",
    "\n",
    "eval_generator = test_datagen.flow_from_directory(TEST_DIR,target_size=IMAGE_SIZE,\n",
    "                                                  batch_size=1,shuffle=True,seed=42,class_mode=\"categorical\")\n",
    "eval_generator.reset()\n",
    "print(len(eval_generator))\n",
    "x_model2 = model2.evaluate_generator(eval_generator,steps = np.ceil(len(eval_generator)),\n",
    "                           use_multiprocessing = False,verbose = 1,workers=1)\n",
    "print('Test loss:' , x_model2[0])\n",
    "print('Test accuracy:',x_model2[1])"
   ]
  },
  {
   "cell_type": "markdown",
   "metadata": {
    "nbpresent": {
     "id": "66140980-2aa4-457f-b1df-74c10c234cc2"
    }
   },
   "source": [
    "## [10 points] TSNE Plot\n",
    "t-Distributed Stochastic Neighbor Embedding (t-SNE) is a widely used technique for dimensionality reduction that is particularly well suited for the visualization of high-dimensional datasets. After training is complete, extract features from a specific deep layer of your choice, use t-SNE to reduce the dimensionality of your extracted features to 2 dimensions and plot the resulting 2D features."
   ]
  },
  {
   "cell_type": "code",
   "execution_count": 31,
   "metadata": {},
   "outputs": [
    {
     "name": "stdout",
     "output_type": "stream",
     "text": [
      "Found 270 images belonging to 4 classes.\n"
     ]
    },
    {
     "data": {
      "text/plain": [
       "Text(0.5, 1.0, 'T-SNE Visualization of Features for 1st Model')"
      ]
     },
     "execution_count": 31,
     "metadata": {},
     "output_type": "execute_result"
    },
    {
     "data": {
      "image/png": "[encoded data removed]",
      "text/plain": [
       "<Figure size 432x288 with 1 Axes>"
      ]
     },
     "metadata": {
      "needs_background": "light"
     },
     "output_type": "display_data"
    }
   ],
   "source": [
    "from sklearn.manifold import TSNE\n",
    "\n",
    "intermediate_layer_model = Model(inputs=model.input,\n",
    "                                        outputs=model.get_layer('dense_2').output)\n",
    "\n",
    "tsne_eval_generator = test_datagen.flow_from_directory(DATASET_PATH,target_size=IMAGE_SIZE,\n",
    "                                                  batch_size=1,shuffle=False,seed=42,class_mode=\"categorical\")\n",
    "\n",
    "vals = intermediate_layer_model.predict(tsne_eval_generator)\n",
    "\n",
    "visual = TSNE(n_components=2).fit_transform(vals)\n",
    "\n",
    "for data,label in zip(visual,tsne_eval_generator.classes):\n",
    "    if label == 0:\n",
    "        plt.scatter(data[0],data[1],label=label,color='blue')\n",
    "    elif label == 1:\n",
    "        plt.scatter(data[0],data[1],label=label,color='orange')\n",
    "    \n",
    "    elif label == 2:\n",
    "        plt.scatter(data[0],data[1],label=label,color='green')\n",
    "        \n",
    "    elif label == 3:\n",
    "        plt.scatter(data[0],data[1],label=label,color='red')      \n",
    "\n",
    "plt.title('T-SNE Visualization of Features for 1st Model')"
   ]
  },
  {
   "cell_type": "markdown",
   "metadata": {},
   "source": [
    "#### TSNE Plot of the DenseNet Model"
   ]
  },
  {
   "cell_type": "code",
   "execution_count": 32,
   "metadata": {},
   "outputs": [
    {
     "name": "stdout",
     "output_type": "stream",
     "text": [
      "Found 270 images belonging to 4 classes.\n"
     ]
    },
    {
     "data": {
      "text/plain": [
       "Text(0.5, 1.0, 'T-SNE Visualization of Features for 2nd Model')"
      ]
     },
     "execution_count": 32,
     "metadata": {},
     "output_type": "execute_result"
    },
    {
     "data": {
      "image/png": "[encoded data removed]",
      "text/plain": [
       "<Figure size 432x288 with 1 Axes>"
      ]
     },
     "metadata": {
      "needs_background": "light"
     },
     "output_type": "display_data"
    }
   ],
   "source": [
    "from sklearn.manifold import TSNE\n",
    "\n",
    "intermediate_layer_model2 = Model(inputs=model2.input,\n",
    "                                        outputs=model2.get_layer('dense_18').output)\n",
    "\n",
    "tsne_eval_generator = test_datagen.flow_from_directory(DATASET_PATH,target_size=IMAGE_SIZE,\n",
    "                                                  batch_size=1,shuffle=False,seed=42,class_mode=\"categorical\")\n",
    "\n",
    "vals2 = intermediate_layer_model2.predict(tsne_eval_generator)\n",
    "\n",
    "visual2 = TSNE(n_components=2).fit_transform(vals2)\n",
    "\n",
    "for data,label in zip(visual2,tsne_eval_generator.classes):\n",
    "    if label == 0:\n",
    "        plt.scatter(data[0],data[1],label=label,color='blue')\n",
    "    elif label == 1:\n",
    "        plt.scatter(data[0],data[1],label=label,color='orange')\n",
    "    \n",
    "    elif label == 2:\n",
    "        plt.scatter(data[0],data[1],label=label,color='green')\n",
    "        \n",
    "    elif label == 3:\n",
    "        plt.scatter(data[0],data[1],label=label,color='red')   \n",
    "\n",
    "plt.title('T-SNE Visualization of Features for 2nd Model')"
   ]
  },
  {
   "cell_type": "markdown",
   "metadata": {},
   "source": [
    "<!-- ## Task 2: COVID-19 vs Normal vs Tertiary Pneumonia (Bacterial and Viral) -->"
   ]
  },
  {
   "cell_type": "markdown",
   "metadata": {
    "nbpresent": {
     "id": "66140980-2aa4-457f-b1df-74c10c234cc2"
    }
   },
   "source": [
    "<!-- #### Renew Training Batch and Validation Batch -->"
   ]
  },
  {
   "cell_type": "markdown",
   "metadata": {
    "nbpresent": {
     "id": "66140980-2aa4-457f-b1df-74c10c234cc2"
    }
   },
   "source": [
    "<!-- #### Renew Model -->"
   ]
  }
 ],
 "metadata": {
  "kernelspec": {
   "display_name": "Python 3",
   "language": "python",
   "name": "python3"
  },
  "language_info": {
   "codemirror_mode": {
    "name": "ipython",
    "version": 3
   },
   "file_extension": ".py",
   "mimetype": "text/x-python",
   "name": "python",
   "nbconvert_exporter": "python",
   "pygments_lexer": "ipython3",
   "version": "3.7.3"
  },
  "latex_envs": {
   "LaTeX_envs_menu_present": true,
   "autoclose": false,
   "autocomplete": true,
   "bibliofile": "biblio.bib",
   "cite_by": "apalike",
   "current_citInitial": 1,
   "eqLabelWithNumbers": true,
   "eqNumInitial": 1,
   "hotkeys": {
    "equation": "Ctrl-E",
    "itemize": "Ctrl-I"
   },
   "labels_anchors": false,
   "latex_user_defs": false,
   "report_style_numbering": false,
   "user_envs_cfg": false
  },
  "toc": {
   "base_numbering": 1,
   "nav_menu": {},
   "number_sections": true,
   "sideBar": true,
   "skip_h1_title": false,
   "title_cell": "Table of Contents",
   "title_sidebar": "Contents",
   "toc_cell": false,
   "toc_position": {},
   "toc_section_display": true,
   "toc_window_display": false
  },
  "varInspector": {
   "cols": {
    "lenName": 16,
    "lenType": 16,
    "lenVar": 40
   },
   "kernels_config": {
    "python": {
     "delete_cmd_postfix": "",
     "delete_cmd_prefix": "del ",
     "library": "var_list.py",
     "varRefreshCmd": "print(var_dic_list())"
    },
    "r": {
     "delete_cmd_postfix": ") ",
     "delete_cmd_prefix": "rm(",
     "library": "var_list.r",
     "varRefreshCmd": "cat(var_dic_list()) "
    }
   },
   "types_to_exclude": [
    "module",
    "function",
    "builtin_function_or_method",
    "instance",
    "_Feature"
   ],
   "window_display": false
  }
 },
 "nbformat": 4,
 "nbformat_minor": 4
}
